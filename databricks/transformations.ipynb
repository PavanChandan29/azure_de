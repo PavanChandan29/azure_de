{
 "cells": [
  {
   "cell_type": "code",
   "execution_count": 0,
   "metadata": {
    "application/vnd.databricks.v1+cell": {
     "cellMetadata": {
      "byteLimit": 2048000,
      "rowLimit": 10000
     },
     "inputWidgets": {},
     "nuid": "d1a16e22-afa9-4546-8c6a-42f7e15a1d8b",
     "showTitle": false,
     "title": ""
    }
   },
   "outputs": [
    {
     "output_type": "execute_result",
     "data": {
      "text/plain": [
       "True"
      ]
     },
     "execution_count": 5,
     "metadata": {},
     "output_type": "execute_result"
    }
   ],
   "source": [
    "dbutils.fs.mount(\n",
    "  source = \"wasbs://bndl-data@bndldata01.blob.core.windows.net\",\n",
    "  mount_point = \"/mnt/bndldata\",\n",
    "  extra_configs = {\"fs.azure.account.key.bndldata01.blob.core.windows.net\":AccountKey})\n"
   ]
  },
  {
   "cell_type": "code",
   "execution_count": 0,
   "metadata": {
    "application/vnd.databricks.v1+cell": {
     "cellMetadata": {
      "byteLimit": 2048000,
      "rowLimit": 10000
     },
     "inputWidgets": {},
     "nuid": "4718af06-9a4b-41b8-a7df-90fffce6bedd",
     "showTitle": false,
     "title": ""
    }
   },
   "outputs": [],
   "source": [
    "AccountKey = \"NDJ9/LmL0rSSKMXR4F30mH4DuR86NWAwrwM+X0nLnV0bC1l3fYUpugQDCslsvR6FuRVg+NFnH8eZ+AStafDOSg==\""
   ]
  },
  {
   "cell_type": "code",
   "execution_count": 0,
   "metadata": {
    "application/vnd.databricks.v1+cell": {
     "cellMetadata": {
      "byteLimit": 2048000,
      "rowLimit": 10000
     },
     "collapsed": true,
     "inputWidgets": {},
     "nuid": "50a8908c-2d84-4976-9521-c70a6d78a0f6",
     "showTitle": false,
     "title": ""
    }
   },
   "outputs": [
    {
     "output_type": "display_data",
     "data": {
      "text/html": [
       "<style scoped>\n",
       "  .table-result-container {\n",
       "    max-height: 300px;\n",
       "    overflow: auto;\n",
       "  }\n",
       "  table, th, td {\n",
       "    border: 1px solid black;\n",
       "    border-collapse: collapse;\n",
       "  }\n",
       "  th, td {\n",
       "    padding: 5px;\n",
       "  }\n",
       "  th {\n",
       "    text-align: left;\n",
       "  }\n",
       "</style><div class='table-result-container'><table class='table-result'><thead style='background-color: white'><tr><th>mountPoint</th><th>source</th><th>encryptionType</th></tr></thead><tbody><tr><td>/databricks-datasets</td><td>databricks-datasets</td><td></td></tr><tr><td>/Volumes</td><td>UnityCatalogVolumes</td><td></td></tr><tr><td>/databricks/mlflow-tracking</td><td>databricks/mlflow-tracking</td><td></td></tr><tr><td>/databricks-results</td><td>databricks-results</td><td></td></tr><tr><td>/databricks/mlflow-registry</td><td>databricks/mlflow-registry</td><td></td></tr><tr><td>/mnt/bndldata</td><td>wasbs://bndl-data@bndldata01.blob.core.windows.net</td><td></td></tr><tr><td>/Volume</td><td>DbfsReserved</td><td></td></tr><tr><td>/volumes</td><td>DbfsReserved</td><td></td></tr><tr><td>/</td><td>DatabricksRoot</td><td></td></tr><tr><td>/volume</td><td>DbfsReserved</td><td></td></tr></tbody></table></div>"
      ]
     },
     "metadata": {
      "application/vnd.databricks.v1+output": {
       "addedWidgets": {},
       "aggData": [],
       "aggError": "",
       "aggOverflow": false,
       "aggSchema": [],
       "aggSeriesLimitReached": false,
       "aggType": "",
       "arguments": {},
       "columnCustomDisplayInfos": {},
       "data": [
        [
         "/databricks-datasets",
         "databricks-datasets",
         ""
        ],
        [
         "/Volumes",
         "UnityCatalogVolumes",
         ""
        ],
        [
         "/databricks/mlflow-tracking",
         "databricks/mlflow-tracking",
         ""
        ],
        [
         "/databricks-results",
         "databricks-results",
         ""
        ],
        [
         "/databricks/mlflow-registry",
         "databricks/mlflow-registry",
         ""
        ],
        [
         "/mnt/bndldata",
         "wasbs://bndl-data@bndldata01.blob.core.windows.net",
         ""
        ],
        [
         "/Volume",
         "DbfsReserved",
         ""
        ],
        [
         "/volumes",
         "DbfsReserved",
         ""
        ],
        [
         "/",
         "DatabricksRoot",
         ""
        ],
        [
         "/volume",
         "DbfsReserved",
         ""
        ]
       ],
       "datasetInfos": [],
       "dbfsResultPath": null,
       "isJsonSchema": true,
       "metadata": {},
       "overflow": false,
       "plotOptions": {
        "customPlotOptions": {},
        "displayType": "table",
        "pivotAggregation": null,
        "pivotColumns": null,
        "xColumns": null,
        "yColumns": null
       },
       "removedWidgets": [],
       "schema": [
        {
         "metadata": "{}",
         "name": "mountPoint",
         "type": "\"string\""
        },
        {
         "metadata": "{}",
         "name": "source",
         "type": "\"string\""
        },
        {
         "metadata": "{}",
         "name": "encryptionType",
         "type": "\"string\""
        }
       ],
       "type": "table"
      }
     },
     "output_type": "display_data"
    }
   ],
   "source": [
    "display(dbutils.fs.mounts())"
   ]
  },
  {
   "cell_type": "code",
   "execution_count": 0,
   "metadata": {
    "application/vnd.databricks.v1+cell": {
     "cellMetadata": {
      "byteLimit": 2048000,
      "rowLimit": 10000
     },
     "inputWidgets": {},
     "nuid": "f3a9a498-0d23-4c7a-9ce4-95faf770b10d",
     "showTitle": false,
     "title": ""
    }
   },
   "outputs": [],
   "source": [
    "from pyspark.sql import SparkSession\n",
    "from pyspark.sql.functions import col, sum, count, max, min, when, desc, asc\n",
    "from pyspark.sql import functions as F"
   ]
  },
  {
   "cell_type": "code",
   "execution_count": 0,
   "metadata": {
    "application/vnd.databricks.v1+cell": {
     "cellMetadata": {
      "byteLimit": 2048000,
      "rowLimit": 10000
     },
     "inputWidgets": {},
     "nuid": "e21f2257-a4cf-476d-b285-195f3e10622b",
     "showTitle": false,
     "title": ""
    }
   },
   "outputs": [],
   "source": [
    "buildings = spark.read.format(\"csv\").option(\"header\",\"true\").load(\"/mnt/bndldata/raw-data/buildings.csv\")\n",
    "leases = spark.read.format(\"csv\").option(\"header\",\"true\").load(\"/mnt/bndldata/raw-data/leases.csv\")"
   ]
  },
  {
   "cell_type": "code",
   "execution_count": 0,
   "metadata": {
    "application/vnd.databricks.v1+cell": {
     "cellMetadata": {
      "byteLimit": 2048000,
      "rowLimit": 10000
     },
     "collapsed": true,
     "inputWidgets": {},
     "nuid": "6bc11f2c-c8ac-48bc-a9b1-f2564359f014",
     "showTitle": false,
     "title": ""
    }
   },
   "outputs": [
    {
     "output_type": "execute_result",
     "data": {
      "text/plain": [
       "[Row(Location Code='AK0009', Real Property Asset Name='POST OFFICE AND CU H', Installation Name='NA', Federal Leased Code='L', GSA Region='10', Street Address='2ND ST', City='WRANGELL', State='AK', Zip Code='99929', Latitude='56.473949', Longitude='-132.38812', Building Rentable Square Feet='97', Available Square Feet='0', Congressional District='0200', Congressional District Representative='MARY PELTOLA', Lease Number='LAK00348', Lease Effective Date='2022-10-01', Lease Expiration Date='2027-09-30', Real Property Asset type='BUILDING'),\n",
       " Row(Location Code='AK3139', Real Property Asset Name='TROUTTE CENTER', Installation Name='NA', Federal Leased Code='L', GSA Region='10', Street Address='329 HARBOR DR', City='SITKA', State='AK', Zip Code='99835', Latitude='57.0502849', Longitude='-135.33364', Building Rentable Square Feet='951', Available Square Feet='0', Congressional District='0200', Congressional District Representative='MARY PELTOLA', Lease Number='LAK07113', Lease Effective Date='2009-04-17', Lease Expiration Date='2029-04-16', Real Property Asset type='BUILDING')]"
      ]
     },
     "execution_count": 27,
     "metadata": {},
     "output_type": "execute_result"
    }
   ],
   "source": [
    "leases.head(2)"
   ]
  },
  {
   "cell_type": "code",
   "execution_count": 0,
   "metadata": {
    "application/vnd.databricks.v1+cell": {
     "cellMetadata": {
      "byteLimit": 2048000,
      "rowLimit": 10000
     },
     "inputWidgets": {},
     "nuid": "28ffd9f4-82fb-4298-8aa5-7f0eb4c3a78d",
     "showTitle": false,
     "title": ""
    }
   },
   "outputs": [
    {
     "output_type": "stream",
     "name": "stdout",
     "output_type": "stream",
     "text": [
      "root\n |-- Location Code: string (nullable = true)\n |-- Real Property Asset Name: string (nullable = true)\n |-- Installation Name: string (nullable = true)\n |-- Owned or Leased: string (nullable = true)\n |-- GSA Region: string (nullable = true)\n |-- Street Address: string (nullable = true)\n |-- City: string (nullable = true)\n |-- State: string (nullable = true)\n |-- Zip Code: string (nullable = true)\n |-- Latitude: string (nullable = true)\n |-- Longitude: string (nullable = true)\n |-- Building Rentable Square Feet: string (nullable = true)\n |-- Available Square Feet: string (nullable = true)\n |-- Construction Date: string (nullable = true)\n |-- Congressional District: string (nullable = true)\n |-- Congressional District Representative Name: string (nullable = true)\n |-- Building Status: string (nullable = true)\n |-- Real Property Asset Type: string (nullable = true)\n\n"
     ]
    }
   ],
   "source": [
    "buildings.printSchema()"
   ]
  },
  {
   "cell_type": "code",
   "execution_count": 0,
   "metadata": {
    "application/vnd.databricks.v1+cell": {
     "cellMetadata": {
      "byteLimit": 2048000,
      "rowLimit": 10000
     },
     "inputWidgets": {},
     "nuid": "25af508e-6d19-4c94-b255-2cdbac876646",
     "showTitle": false,
     "title": ""
    }
   },
   "outputs": [
    {
     "output_type": "stream",
     "name": "stdout",
     "output_type": "stream",
     "text": [
      "root\n |-- Location Code: string (nullable = true)\n |-- Real Property Asset Name: string (nullable = true)\n |-- Installation Name: string (nullable = true)\n |-- Federal Leased Code: string (nullable = true)\n |-- GSA Region: string (nullable = true)\n |-- Street Address: string (nullable = true)\n |-- City: string (nullable = true)\n |-- State: string (nullable = true)\n |-- Zip Code: string (nullable = true)\n |-- Latitude: string (nullable = true)\n |-- Longitude: string (nullable = true)\n |-- Building Rentable Square Feet: string (nullable = true)\n |-- Available Square Feet: string (nullable = true)\n |-- Congressional District: string (nullable = true)\n |-- Congressional District Representative: string (nullable = true)\n |-- Lease Number: string (nullable = true)\n |-- Lease Effective Date: string (nullable = true)\n |-- Lease Expiration Date: string (nullable = true)\n |-- Real Property Asset type: string (nullable = true)\n\n"
     ]
    }
   ],
   "source": [
    "leases.printSchema()"
   ]
  },
  {
   "cell_type": "code",
   "execution_count": 0,
   "metadata": {
    "application/vnd.databricks.v1+cell": {
     "cellMetadata": {
      "byteLimit": 2048000,
      "rowLimit": 10000
     },
     "inputWidgets": {},
     "nuid": "ff0155dc-cd63-456b-ac15-8d725ee7cf95",
     "showTitle": false,
     "title": ""
    }
   },
   "outputs": [
    {
     "output_type": "execute_result",
     "data": {
      "text/plain": [
       "[Row(State='DC', Total Rentable Square Feet=53849974.945503235),\n",
       " Row(State='MD', Total Rentable Square Feet=28984288.314453125),\n",
       " Row(State='CA', Total Rentable Square Feet=28335853.532218933),\n",
       " Row(State='VA', Total Rentable Square Feet=25353905.739440918),\n",
       " Row(State='TX', Total Rentable Square Feet=23291260.398838043),\n",
       " Row(State='NY', Total Rentable Square Feet=17801643.341400146),\n",
       " Row(State='MO', Total Rentable Square Feet=16110110.77960205),\n",
       " Row(State='FL', Total Rentable Square Feet=12233671.1171875),\n",
       " Row(State='PA', Total Rentable Square Feet=11397751.472167969),\n",
       " Row(State='CO', Total Rentable Square Feet=10878489.513671875),\n",
       " Row(State='GA', Total Rentable Square Feet=10420422.404785156),\n",
       " Row(State='IL', Total Rentable Square Feet=9703312.453491211),\n",
       " Row(State='WA', Total Rentable Square Feet=7777220.030426025),\n",
       " Row(State='OH', Total Rentable Square Feet=7522578.959350586),\n",
       " Row(State='MI', Total Rentable Square Feet=6189479.265609741),\n",
       " Row(State='MA', Total Rentable Square Feet=6052473.926513672),\n",
       " Row(State='IN', Total Rentable Square Feet=5624518.558534622),\n",
       " Row(State='TN', Total Rentable Square Feet=5088165.760009766),\n",
       " Row(State='AZ', Total Rentable Square Feet=5077321.75402832),\n",
       " Row(State='NJ', Total Rentable Square Feet=5015564.092285156),\n",
       " Row(State='NC', Total Rentable Square Feet=4751339.238769531),\n",
       " Row(State='LA', Total Rentable Square Feet=4101073.86328125),\n",
       " Row(State='AL', Total Rentable Square Feet=3767761.8974609375),\n",
       " Row(State='OR', Total Rentable Square Feet=3759724.2735595703),\n",
       " Row(State='WV', Total Rentable Square Feet=3482484.723754883),\n",
       " Row(State='KY', Total Rentable Square Feet=3348005.4404296875),\n",
       " Row(State='UT', Total Rentable Square Feet=3273724.64263916),\n",
       " Row(State='MN', Total Rentable Square Feet=3207841.3251953125),\n",
       " Row(State='NM', Total Rentable Square Feet=2998482.917694092),\n",
       " Row(State='KS', Total Rentable Square Feet=2827857.679382324),\n",
       " Row(State='OK', Total Rentable Square Feet=2788770.2126464844),\n",
       " Row(State='MS', Total Rentable Square Feet=2333272.416015625),\n",
       " Row(State='SC', Total Rentable Square Feet=2257824.259765625),\n",
       " Row(State='PR', Total Rentable Square Feet=2240529.498046875),\n",
       " Row(State='NE', Total Rentable Square Feet=2157218.2673339844),\n",
       " Row(State='AR', Total Rentable Square Feet=2059483.6953125),\n",
       " Row(State='AK', Total Rentable Square Feet=1953935.6434326172),\n",
       " Row(State='NV', Total Rentable Square Feet=1935488.8358154297),\n",
       " Row(State='WI', Total Rentable Square Feet=1801958.6923828125),\n",
       " Row(State='MT', Total Rentable Square Feet=1646272.8585281372),\n",
       " Row(State='IA', Total Rentable Square Feet=1512982.1799316406),\n",
       " Row(State='CT', Total Rentable Square Feet=1475054.70703125),\n",
       " Row(State='HI', Total Rentable Square Feet=1291814.2905273438),\n",
       " Row(State='VT', Total Rentable Square Feet=1206651.6835327148),\n",
       " Row(State='ID', Total Rentable Square Feet=1092756.2463378906),\n",
       " Row(State='ND', Total Rentable Square Feet=1057549.753692627),\n",
       " Row(State='ME', Total Rentable Square Feet=1022999.9075927734),\n",
       " Row(State='NH', Total Rentable Square Feet=934991.9877929688),\n",
       " Row(State='SD', Total Rentable Square Feet=910025.8044433594),\n",
       " Row(State='RI', Total Rentable Square Feet=657391.822265625),\n",
       " Row(State='WY', Total Rentable Square Feet=650477.6499633789),\n",
       " Row(State='DE', Total Rentable Square Feet=562257.09375),\n",
       " Row(State='GU', Total Rentable Square Feet=221007.140625),\n",
       " Row(State='VI', Total Rentable Square Feet=220368.32470703125),\n",
       " Row(State='MP', Total Rentable Square Feet=83360.0),\n",
       " Row(State='AS', Total Rentable Square Feet=26349.0)]"
      ]
     },
     "execution_count": 45,
     "metadata": {},
     "output_type": "execute_result"
    }
   ],
   "source": [
    "# Total Rentable Square Feet by State\n",
    "total_rentable_sqft_by_state = buildings.groupBy(\"State\").agg(\n",
    "    F.sum(F.col(\"Building Rentable Square Feet\").cast(\"float\")).alias(\"Total Rentable Square Feet\")\n",
    ")\n",
    "total_rentable_sqft_by_state.orderBy(desc(\"Total Rentable Square Feet\")).collect()"
   ]
  },
  {
   "cell_type": "code",
   "execution_count": 0,
   "metadata": {
    "application/vnd.databricks.v1+cell": {
     "cellMetadata": {
      "byteLimit": 2048000,
      "rowLimit": 10000
     },
     "inputWidgets": {},
     "nuid": "3c916a1f-b45b-4e63-86c1-78c3313db34b",
     "showTitle": false,
     "title": ""
    }
   },
   "outputs": [
    {
     "output_type": "stream",
     "name": "stdout",
     "output_type": "stream",
     "text": [
      "+---------------+--------------+\n|Owned or Leased|Building Count|\n+---------------+--------------+\n|              F|          1807|\n|              L|          6805|\n+---------------+--------------+\n\n"
     ]
    }
   ],
   "source": [
    "    # Number of Buildings by Ownership Type\n",
    "    building_count_by_ownership = buildings.groupBy(\"Owned or Leased\").agg(\n",
    "        F.count(\"*\").alias(\"Building Count\")) \n",
    "    building_count_by_ownership.show()"
   ]
  },
  {
   "cell_type": "code",
   "execution_count": 0,
   "metadata": {
    "application/vnd.databricks.v1+cell": {
     "cellMetadata": {
      "byteLimit": 2048000,
      "rowLimit": 10000
     },
     "inputWidgets": {},
     "nuid": "fdf7bd7d-08e2-4538-a2c4-bac7ed00d430",
     "showTitle": false,
     "title": ""
    }
   },
   "outputs": [
    {
     "output_type": "stream",
     "name": "stdout",
     "output_type": "stream",
     "text": [
      "+----------+------------------------+\n|GSA Region|Total Leased Square Feet|\n+----------+------------------------+\n|        11|      6.43012047734375E7|\n|         4|    2.9586947479492188E7|\n|         3|    2.5367902896453857E7|\n|         7|    2.4768737575927734E7|\n|         9|    2.4623457528320312E7|\n+----------+------------------------+\nonly showing top 5 rows\n\n"
     ]
    }
   ],
   "source": [
    "# Total Leased Square Feet by Region\n",
    "total_leased_sqft_by_region = leases.groupBy(\"GSA Region\").agg(\n",
    "    F.sum(F.col(\"Building Rentable Square Feet\").cast(\"float\")).alias(\"Total Leased Square Feet\")\n",
    ")\n",
    "total_leased_sqft_by_region.orderBy(desc(\"Total Leased Square Feet\")).show(5)"
   ]
  },
  {
   "cell_type": "code",
   "execution_count": 0,
   "metadata": {
    "application/vnd.databricks.v1+cell": {
     "cellMetadata": {
      "byteLimit": 2048000,
      "rowLimit": 10000
     },
     "inputWidgets": {},
     "nuid": "77ea733f-5103-40b0-b485-0cce11e2d277",
     "showTitle": false,
     "title": ""
    }
   },
   "outputs": [],
   "source": [
    "# Join the dataframes on common columns\n",
    "combined_df = buildings.join(leases, on=[\"Location Code\"], how=\"inner\")\n"
   ]
  },
  {
   "cell_type": "code",
   "execution_count": 0,
   "metadata": {
    "application/vnd.databricks.v1+cell": {
     "cellMetadata": {
      "byteLimit": 2048000,
      "rowLimit": 10000
     },
     "inputWidgets": {},
     "nuid": "44c73f81-d42b-46b2-9d53-d412e690a955",
     "showTitle": false,
     "title": ""
    }
   },
   "outputs": [
    {
     "output_type": "stream",
     "name": "stdout",
     "output_type": "stream",
     "text": [
      "+---------------------+-----------+\n|Lease Expiration Year|Lease Count|\n+---------------------+-----------+\n|                 2026|        843|\n|                 2027|        805|\n|                 2025|        787|\n|                 2028|        710|\n|                 2024|        629|\n+---------------------+-----------+\nonly showing top 5 rows\n\n"
     ]
    }
   ],
   "source": [
    "# Count of Leases by Expiration Year\n",
    "leases_by_expiration_year = leases.withColumn(\n",
    "    \"Lease Expiration Year\", F.year(\"Lease Expiration Date\")\n",
    ").groupBy(\"Lease Expiration Year\").agg(\n",
    "    F.count(\"*\").alias(\"Lease Count\")\n",
    ")\n",
    "leases_by_expiration_year.orderBy(desc(\"Lease Count\")).show(5)"
   ]
  },
  {
   "cell_type": "code",
   "execution_count": 0,
   "metadata": {
    "application/vnd.databricks.v1+cell": {
     "cellMetadata": {
      "byteLimit": 2048000,
      "rowLimit": 10000
     },
     "inputWidgets": {},
     "nuid": "57a0b3b0-1960-4d64-9c71-0624e7268df6",
     "showTitle": false,
     "title": ""
    }
   },
   "outputs": [
    {
     "output_type": "stream",
     "name": "stdout",
     "output_type": "stream",
     "text": [
      "+----------+-------------------------+\n|GSA Region|Max Lease Duration (days)|\n+----------+-------------------------+\n|         5|                    31945|\n|         2|                    22654|\n|         7|                    16070|\n|         3|                    14945|\n|         4|                    14609|\n+----------+-------------------------+\nonly showing top 5 rows\n\n"
     ]
    }
   ],
   "source": [
    "# Maximum Lease Duration by Region\n",
    "lease_duration_by_region = leases.withColumn(\n",
    "    \"Lease Duration\", \n",
    "    F.datediff(F.col(\"Lease Expiration Date\"), F.col(\"Lease Effective Date\"))\n",
    ").groupBy(\"GSA Region\").agg(\n",
    "    F.max(\"Lease Duration\").alias(\"Max Lease Duration (days)\")\n",
    ")\n",
    "lease_duration_by_region.orderBy(desc(\"Max Lease Duration (days)\")).show(5)"
   ]
  },
  {
   "cell_type": "code",
   "execution_count": 0,
   "metadata": {
    "application/vnd.databricks.v1+cell": {
     "cellMetadata": {
      "byteLimit": 2048000,
      "rowLimit": 10000
     },
     "inputWidgets": {},
     "nuid": "cc0f818b-55ec-4a93-9251-d9e080c829f6",
     "showTitle": false,
     "title": ""
    }
   },
   "outputs": [
    {
     "output_type": "stream",
     "name": "stdout",
     "output_type": "stream",
     "text": [
      "+------------------------+-----------------------------+------------+---------------------+-----------------------+\n|Real Property Asset Name|Building Rentable Square Feet|Lease Number|Lease Duration (days)|Lease Duration Category|\n+------------------------+-----------------------------+------------+---------------------+-----------------------+\n|    POST OFFICE AND CU H|                           97|    LAK00348|                 1825|            Medium-term|\n|          TROUTTE CENTER|                          951|    LAK07113|                 7304|              Long-term|\n|          PETERSON TOWER|                         5283|    LAK07230|                 6443|              Long-term|\n|    TUDOR BUSINESS CNTER|                        89049|    LAK07436|                 7304|              Long-term|\n|        MICHAEL BUILDING|                        33855|    LAK06502|                 9131|              Long-term|\n+------------------------+-----------------------------+------------+---------------------+-----------------------+\nonly showing top 5 rows\n\n"
     ]
    }
   ],
   "source": [
    "# Categorize leases based on duration\n",
    "leases_with_duration_category = leases.withColumn(\n",
    "    \"Lease Duration (days)\",\n",
    "    F.datediff(F.col(\"Lease Expiration Date\"), F.col(\"Lease Effective Date\"))\n",
    ").withColumn(\n",
    "    \"Lease Duration Category\", F.when(F.col(\"Lease Duration (days)\") <= 365, F.lit(\"Short-term\"))\n",
    "    .when((F.col(\"Lease Duration (days)\") > 365) & (F.col(\"Lease Duration (days)\") <= 365*5), F.lit(\"Medium-term\"))\n",
    "    .otherwise(F.lit(\"Long-term\")))\n",
    "leases_with_duration_category.select(\"Real Property Asset Name\",\"Building Rentable Square Feet\",\"Lease Number\",\"Lease Duration (days)\",\"Lease Duration Category\").show(5)"
   ]
  },
  {
   "cell_type": "code",
   "execution_count": 0,
   "metadata": {
    "application/vnd.databricks.v1+cell": {
     "cellMetadata": {
      "byteLimit": 2048000,
      "rowLimit": 10000
     },
     "inputWidgets": {},
     "nuid": "0634c094-8933-485e-871c-b7247c0adf69",
     "showTitle": false,
     "title": ""
    }
   },
   "outputs": [
    {
     "output_type": "stream",
     "name": "stdout",
     "output_type": "stream",
     "text": [
      "+------------------------+-----------------------------+------------+------------+\n|Real Property Asset Name|Building Rentable Square Feet|Lease Number|Lease Status|\n+------------------------+-----------------------------+------------+------------+\n|    UNIVERSITY PLACE ...|                         9999|    LAL60393|      Active|\n|       HALLMARK BUILDING|                         9999|    LVA12693|      Active|\n|    SPRINGFIELD OH (1...|                         9999|    LOH01170|      Active|\n|    MUSKEGON MI (340 ...|                         9999|    LMI00955|      Active|\n|    1680 LAKE FRONT C...|                         9999|    LTX17415|      Active|\n+------------------------+-----------------------------+------------+------------+\nonly showing top 5 rows\n\n"
     ]
    }
   ],
   "source": [
    "#Add a column indicating if the lease is active or expired\n",
    "leases_with_status = leases.withColumn(\n",
    "    \"Lease Status\", \n",
    "    F.when(F.col(\"Lease Expiration Date\") > F.current_date(), F.lit(\"Active\"))\n",
    "    .otherwise(F.lit(\"Expired\"))\n",
    ")\n",
    "leases_with_status.select(\"Real Property Asset Name\",\"Building Rentable Square Feet\",\"Lease Number\",\"Lease Status\").orderBy(desc(\"Building Rentable Square Feet\")).show(5)"
   ]
  },
  {
   "cell_type": "code",
   "execution_count": 0,
   "metadata": {
    "application/vnd.databricks.v1+cell": {
     "cellMetadata": {
      "byteLimit": 2048000,
      "rowLimit": 10000
     },
     "inputWidgets": {},
     "nuid": "6211e606-e0d9-4a2b-af6d-418ac4ae4889",
     "showTitle": false,
     "title": ""
    }
   },
   "outputs": [],
   "source": [
    "leases_with_status.repartition(3).write.mode(\"overwrite\").option(\"header\",\"true\").csv(\"/mnt/bndldata/transformed-data/leases_with_status.csv\")\n",
    "leases_with_duration_category.repartition(3).write.mode(\"overwrite\").option(\"header\",\"true\").csv(\"/mnt/bndldata/transformed-data/leases_with_duration_category.csv\")\n",
    "lease_duration_by_region.write.mode(\"overwrite\").option(\"header\",\"true\").csv(\"/mnt/bndldata/transformed-data/lease_duration_by_region.csv\")\n",
    "leases_by_expiration_year.write.mode(\"overwrite\").option(\"header\",\"true\").csv(\"/mnt/bndldata/transformed-data/leases_by_expiration_year.csv\")\n",
    "total_leased_sqft_by_region.write.mode(\"overwrite\").option(\"header\",\"true\").csv(\"/mnt/bndldata/transformed-data/total_leased_sqft_by_region.csv\")"
   ]
  }
 ],
 "metadata": {
  "application/vnd.databricks.v1+notebook": {
   "dashboards": [],
   "environmentMetadata": null,
   "language": "python",
   "notebookMetadata": {
    "pythonIndentUnit": 4
   },
   "notebookName": "bndl",
   "widgets": {}
  }
 },
 "nbformat": 4,
 "nbformat_minor": 0
}
